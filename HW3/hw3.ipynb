{
 "cells": [
  {
   "cell_type": "code",
   "execution_count": 52,
   "metadata": {},
   "outputs": [],
   "source": [
    "import pandas as pd \n",
    "import re\n",
    "from unidecode import unidecode\n",
    "\n"
   ]
  },
  {
   "cell_type": "code",
   "execution_count": 75,
   "metadata": {},
   "outputs": [],
   "source": [
    "wikipedia = open(r'C:\\Users\\SBK\\Documents\\NLP\\HW3\\wiki.tr.txt')\n",
    "lines = wikipedia.readlines()\n",
    "dt = pd.DataFrame()"
   ]
  },
  {
   "cell_type": "code",
   "execution_count": 68,
   "metadata": {},
   "outputs": [],
   "source": [
    "def preprocessing(txt):\n",
    "    txt = txt.lower()\n",
    "    txt = unidecode(txt)\n",
    "    txt = txt.replace('\\n','')\n",
    "    pattern_de = re.compile(r'\\w+de\\b')\n",
    "    pattern_da = re.compile(r'\\w+da\\b')\n",
    "    pattern_ki = re.compile(r'\\w+ki\\b')\n",
    "\n",
    "    matches_de = pattern_de.findall(txt)\n",
    "    matches_da = pattern_da.findall(txt)\n",
    "    matches_ki = pattern_ki.findall(txt)\n",
    "    \n",
    "    pattern_space_de =  re.compile(r'\\w+ de\\b')\n",
    "    pattern_space_da =  re.compile(r'\\w+ da\\b')\n",
    "    pattern_space_ki =  re.compile(r'\\w+ ki\\b')\n",
    "\n",
    "    matches_space_de = pattern_space_de.findall(txt)\n",
    "    matches_space_da = pattern_space_da.findall(txt)\n",
    "    matches_space_ki = pattern_space_ki.findall(txt)\n",
    "    if len(matches_de)>=0 or len(matches_da)>=0 or len(matches_ki)>=0:\n",
    "        label = 0\n",
    "    if len(matches_space_de) > 0:\n",
    "        label = 1\n",
    "        for str in matches_space_de:\n",
    "            new_lst = str.split(' ')\n",
    "            new_word = new_lst[0]+new_lst[1]\n",
    "            txt=txt.replace(str,new_word) \n",
    "    if len(matches_space_da) > 0:\n",
    "        label = 1\n",
    "        for str in matches_space_da:\n",
    "            new_lst = str.split(' ')\n",
    "            new_word = new_lst[0]+new_lst[1]\n",
    "            txt =txt.replace(str,new_word)\n",
    "    if len(matches_space_ki) > 0:\n",
    "        label = 1\n",
    "        for str in matches_space_ki:\n",
    "            new_lst = str.split(' ')\n",
    "            new_word = new_lst[0]+new_lst[1]\n",
    "            txt = txt.replace(str,new_word)\n",
    "    \n",
    "    return txt , label"
   ]
  },
  {
   "cell_type": "code",
   "execution_count": 72,
   "metadata": {},
   "outputs": [],
   "source": [
    "sentences = []\n",
    "label = []\n",
    "\n",
    "for exm in lines:\n",
    "    new_txt, new_label = preprocessing(exm)\n",
    "    sentences.append(new_txt)\n",
    "    label.append(new_label)\n"
   ]
  },
  {
   "cell_type": "code",
   "execution_count": 73,
   "metadata": {},
   "outputs": [
    {
     "data": {
      "text/plain": [
       "[\"cengiz han cin'i kendi adamlari ile idare etme yolunu omrunun sonuna kadar surdurdu.\",\n",
       " 'onlardan destek alarak muazzam bir imparatorluk insa etti.',\n",
       " 'yaptigi plana gore orduyu uce ayirdi.',\n",
       " 'ayrica android isletim sistemine ait uygulama magazasindada genis bir oyun secenegi bulunmaktadir.',\n",
       " 'bu konudaki ayrintili bilgilere linux dagitimlari maddesinden ulasilabilir.',\n",
       " 'bunun icin pek cok yazilimin bir araya getirilmesi gerekmektedir.',\n",
       " 'bundan sonra bolsevik adlandirmasi ekim devrimi ve rus ic savasi donemlerine ait olarak kalacaktir.',\n",
       " \"duma'ya katilip katilmamayi tartisirlar.\",\n",
       " 'lenin birlesmeye siddetle karsi ciksada bolsevik liderlik arasinda yapilan oylamada azinlikta kalir.',\n",
       " 'bu yeni acik siyasal topluluk komunist birlik olarak isimlendirildi.']"
      ]
     },
     "execution_count": 73,
     "metadata": {},
     "output_type": "execute_result"
    }
   ],
   "source": [
    "sentences[:10]"
   ]
  },
  {
   "cell_type": "code",
   "execution_count": 74,
   "metadata": {},
   "outputs": [
    {
     "data": {
      "text/plain": [
       "[0, 0, 0, 1, 0, 0, 0, 0, 1, 0]"
      ]
     },
     "execution_count": 74,
     "metadata": {},
     "output_type": "execute_result"
    }
   ],
   "source": [
    "label[:10]"
   ]
  },
  {
   "cell_type": "code",
   "execution_count": 76,
   "metadata": {},
   "outputs": [],
   "source": [
    "dt['sentences'] = sentences\n",
    "dt['labels'] = label"
   ]
  },
  {
   "cell_type": "code",
   "execution_count": 77,
   "metadata": {},
   "outputs": [
    {
     "data": {
      "text/html": [
       "<div>\n",
       "<style scoped>\n",
       "    .dataframe tbody tr th:only-of-type {\n",
       "        vertical-align: middle;\n",
       "    }\n",
       "\n",
       "    .dataframe tbody tr th {\n",
       "        vertical-align: top;\n",
       "    }\n",
       "\n",
       "    .dataframe thead th {\n",
       "        text-align: right;\n",
       "    }\n",
       "</style>\n",
       "<table border=\"1\" class=\"dataframe\">\n",
       "  <thead>\n",
       "    <tr style=\"text-align: right;\">\n",
       "      <th></th>\n",
       "      <th>sentences</th>\n",
       "      <th>labels</th>\n",
       "    </tr>\n",
       "  </thead>\n",
       "  <tbody>\n",
       "    <tr>\n",
       "      <th>0</th>\n",
       "      <td>cengiz han cin'i kendi adamlari ile idare etme...</td>\n",
       "      <td>0</td>\n",
       "    </tr>\n",
       "    <tr>\n",
       "      <th>1</th>\n",
       "      <td>onlardan destek alarak muazzam bir imparatorlu...</td>\n",
       "      <td>0</td>\n",
       "    </tr>\n",
       "    <tr>\n",
       "      <th>2</th>\n",
       "      <td>yaptigi plana gore orduyu uce ayirdi.</td>\n",
       "      <td>0</td>\n",
       "    </tr>\n",
       "    <tr>\n",
       "      <th>3</th>\n",
       "      <td>ayrica android isletim sistemine ait uygulama ...</td>\n",
       "      <td>1</td>\n",
       "    </tr>\n",
       "    <tr>\n",
       "      <th>4</th>\n",
       "      <td>bu konudaki ayrintili bilgilere linux dagitiml...</td>\n",
       "      <td>0</td>\n",
       "    </tr>\n",
       "    <tr>\n",
       "      <th>...</th>\n",
       "      <td>...</td>\n",
       "      <td>...</td>\n",
       "    </tr>\n",
       "    <tr>\n",
       "      <th>170453</th>\n",
       "      <td>tarih boyunca agaclik oran seviyesi bolgede az...</td>\n",
       "      <td>0</td>\n",
       "    </tr>\n",
       "    <tr>\n",
       "      <th>170454</th>\n",
       "      <td>yaz aylarinda siddetli yagislar yaygindir.</td>\n",
       "      <td>0</td>\n",
       "    </tr>\n",
       "    <tr>\n",
       "      <th>170455</th>\n",
       "      <td>bu anlatilar yerel halk tarafindan reddedildi.</td>\n",
       "      <td>0</td>\n",
       "    </tr>\n",
       "    <tr>\n",
       "      <th>170456</th>\n",
       "      <td>katolik kilisesine gore bir aziz olarak kabul ...</td>\n",
       "      <td>0</td>\n",
       "    </tr>\n",
       "    <tr>\n",
       "      <th>170457</th>\n",
       "      <td>bugune kadar gelistirdigi bircok site mevcuttur.</td>\n",
       "      <td>0</td>\n",
       "    </tr>\n",
       "  </tbody>\n",
       "</table>\n",
       "<p>170458 rows × 2 columns</p>\n",
       "</div>"
      ],
      "text/plain": [
       "                                                sentences  labels\n",
       "0       cengiz han cin'i kendi adamlari ile idare etme...       0\n",
       "1       onlardan destek alarak muazzam bir imparatorlu...       0\n",
       "2                   yaptigi plana gore orduyu uce ayirdi.       0\n",
       "3       ayrica android isletim sistemine ait uygulama ...       1\n",
       "4       bu konudaki ayrintili bilgilere linux dagitiml...       0\n",
       "...                                                   ...     ...\n",
       "170453  tarih boyunca agaclik oran seviyesi bolgede az...       0\n",
       "170454         yaz aylarinda siddetli yagislar yaygindir.       0\n",
       "170455     bu anlatilar yerel halk tarafindan reddedildi.       0\n",
       "170456  katolik kilisesine gore bir aziz olarak kabul ...       0\n",
       "170457   bugune kadar gelistirdigi bircok site mevcuttur.       0\n",
       "\n",
       "[170458 rows x 2 columns]"
      ]
     },
     "execution_count": 77,
     "metadata": {},
     "output_type": "execute_result"
    }
   ],
   "source": [
    "dt"
   ]
  },
  {
   "cell_type": "code",
   "execution_count": 83,
   "metadata": {},
   "outputs": [
    {
     "name": "stdout",
     "output_type": "stream",
     "text": [
      "136366\n"
     ]
    }
   ],
   "source": [
    "train_size = int((len(sentences)*80)/100)\n",
    "print(train_size)"
   ]
  },
  {
   "cell_type": "code",
   "execution_count": 92,
   "metadata": {},
   "outputs": [],
   "source": [
    "from datasets import DatasetDict, Dataset\n",
    "data = {\n",
    "    'text':sentences,\n",
    "    'label':label\n",
    "}\n",
    "train_data = Dataset.from_dict({'text': data['text'][:train_size], 'label': data['label'][:train_size]})\n",
    "val_data = Dataset.from_dict( {'text': data['text'][train_size:], 'label': data['label'][train_size:]})\n",
    "dataset = DatasetDict(\n",
    "    {\n",
    "        'train': train_data,\n",
    "        'validation': val_data\n",
    "    }\n",
    ")"
   ]
  },
  {
   "cell_type": "code",
   "execution_count": 93,
   "metadata": {},
   "outputs": [
    {
     "data": {
      "text/plain": [
       "Dataset({\n",
       "    features: ['text', 'label'],\n",
       "    num_rows: 136366\n",
       "})"
      ]
     },
     "execution_count": 93,
     "metadata": {},
     "output_type": "execute_result"
    }
   ],
   "source": [
    "dataset['train']"
   ]
  },
  {
   "cell_type": "code",
   "execution_count": 89,
   "metadata": {},
   "outputs": [
    {
     "data": {
      "application/vnd.jupyter.widget-view+json": {
       "model_id": "77e25570c3da4d989cfc9c46a2c02485",
       "version_major": 2,
       "version_minor": 0
      },
      "text/plain": [
       "tokenizer_config.json:   0%|          | 0.00/28.0 [00:00<?, ?B/s]"
      ]
     },
     "metadata": {},
     "output_type": "display_data"
    },
    {
     "name": "stderr",
     "output_type": "stream",
     "text": [
      "c:\\Users\\SBK\\anaconda3\\envs\\dl\\lib\\site-packages\\huggingface_hub\\file_download.py:149: UserWarning: `huggingface_hub` cache-system uses symlinks by default to efficiently store duplicated files but your machine does not support them in C:\\Users\\SBK\\.cache\\huggingface\\hub\\models--distilbert-base-uncased. Caching files will still work but in a degraded version that might require more space on your disk. This warning can be disabled by setting the `HF_HUB_DISABLE_SYMLINKS_WARNING` environment variable. For more details, see https://huggingface.co/docs/huggingface_hub/how-to-cache#limitations.\n",
      "To support symlinks on Windows, you either need to activate Developer Mode or to run Python as an administrator. In order to see activate developer mode, see this article: https://docs.microsoft.com/en-us/windows/apps/get-started/enable-your-device-for-development\n",
      "  warnings.warn(message)\n"
     ]
    },
    {
     "data": {
      "application/vnd.jupyter.widget-view+json": {
       "model_id": "3ece1420fcb94bd9a6825847c815fd50",
       "version_major": 2,
       "version_minor": 0
      },
      "text/plain": [
       "config.json:   0%|          | 0.00/483 [00:00<?, ?B/s]"
      ]
     },
     "metadata": {},
     "output_type": "display_data"
    },
    {
     "data": {
      "application/vnd.jupyter.widget-view+json": {
       "model_id": "1fd9aac4a95944d1b0bff41762f1fde7",
       "version_major": 2,
       "version_minor": 0
      },
      "text/plain": [
       "vocab.txt:   0%|          | 0.00/232k [00:00<?, ?B/s]"
      ]
     },
     "metadata": {},
     "output_type": "display_data"
    },
    {
     "data": {
      "application/vnd.jupyter.widget-view+json": {
       "model_id": "94d71221588d4cbf93f3b2d5e2c9be8b",
       "version_major": 2,
       "version_minor": 0
      },
      "text/plain": [
       "tokenizer.json:   0%|          | 0.00/466k [00:00<?, ?B/s]"
      ]
     },
     "metadata": {},
     "output_type": "display_data"
    }
   ],
   "source": [
    "from transformers import AutoTokenizer\n",
    "tokenizer = AutoTokenizer.from_pretrained(\"distilbert-base-uncased\")"
   ]
  },
  {
   "cell_type": "code",
   "execution_count": 90,
   "metadata": {},
   "outputs": [],
   "source": [
    "def preprocess_function(examples):\n",
    "    return tokenizer(examples[\"text\"], truncation=True)"
   ]
  },
  {
   "cell_type": "code",
   "execution_count": 94,
   "metadata": {},
   "outputs": [
    {
     "data": {
      "application/vnd.jupyter.widget-view+json": {
       "model_id": "f6ab8a8473d0431eb1192c3c4c2fe538",
       "version_major": 2,
       "version_minor": 0
      },
      "text/plain": [
       "Map:   0%|          | 0/136366 [00:00<?, ? examples/s]"
      ]
     },
     "metadata": {},
     "output_type": "display_data"
    },
    {
     "data": {
      "application/vnd.jupyter.widget-view+json": {
       "model_id": "d09e521b012c4e26a624fa0a32d57709",
       "version_major": 2,
       "version_minor": 0
      },
      "text/plain": [
       "Map:   0%|          | 0/34092 [00:00<?, ? examples/s]"
      ]
     },
     "metadata": {},
     "output_type": "display_data"
    }
   ],
   "source": [
    "tokenized_data = dataset.map(preprocess_function, batched=True)"
   ]
  },
  {
   "cell_type": "code",
   "execution_count": 95,
   "metadata": {},
   "outputs": [],
   "source": [
    "from transformers import DataCollatorWithPadding\n",
    "\n",
    "data_collator = DataCollatorWithPadding(tokenizer=tokenizer, return_tensors=\"tf\")"
   ]
  },
  {
   "cell_type": "code",
   "execution_count": 98,
   "metadata": {},
   "outputs": [],
   "source": [
    "import evaluate\n",
    "import numpy as np\n",
    "\n",
    "accuracy = evaluate.load(\"accuracy\")\n",
    "def compute_metrics(eval_pred):\n",
    "    predictions, labels = eval_pred\n",
    "    predictions = np.argmax(predictions, axis=1)\n",
    "    return accuracy.compute(predictions=predictions, references=labels)\n",
    "\n"
   ]
  },
  {
   "cell_type": "code",
   "execution_count": 99,
   "metadata": {},
   "outputs": [],
   "source": [
    "id2label = {0: \"non-seperated\", 1: \"seperated\"}\n",
    "label2id = {\"non-seperated\": 0, \"seperated\": 1}"
   ]
  },
  {
   "cell_type": "code",
   "execution_count": 116,
   "metadata": {},
   "outputs": [],
   "source": [
    "from transformers import create_optimizer\n",
    "import tensorflow as tf\n",
    "\n",
    "batch_size = 16\n",
    "num_epochs = 5\n",
    "batches_per_epoch = len(tokenized_data[\"train\"]) // batch_size\n",
    "total_train_steps = int(batches_per_epoch * num_epochs)\n",
    "optimizer, schedule = create_optimizer(init_lr=2e-5, num_warmup_steps=0, num_train_steps=total_train_steps)"
   ]
  },
  {
   "cell_type": "code",
   "execution_count": 101,
   "metadata": {},
   "outputs": [
    {
     "data": {
      "application/vnd.jupyter.widget-view+json": {
       "model_id": "9b522b2f4d094ed5ac3d77867d9c4725",
       "version_major": 2,
       "version_minor": 0
      },
      "text/plain": [
       "model.safetensors:   0%|          | 0.00/268M [00:00<?, ?B/s]"
      ]
     },
     "metadata": {},
     "output_type": "display_data"
    },
    {
     "name": "stderr",
     "output_type": "stream",
     "text": [
      "Some weights of the PyTorch model were not used when initializing the TF 2.0 model TFDistilBertForSequenceClassification: ['vocab_layer_norm.weight', 'vocab_transform.weight', 'vocab_transform.bias', 'vocab_layer_norm.bias', 'vocab_projector.bias']\n",
      "- This IS expected if you are initializing TFDistilBertForSequenceClassification from a PyTorch model trained on another task or with another architecture (e.g. initializing a TFBertForSequenceClassification model from a BertForPreTraining model).\n",
      "- This IS NOT expected if you are initializing TFDistilBertForSequenceClassification from a PyTorch model that you expect to be exactly identical (e.g. initializing a TFBertForSequenceClassification model from a BertForSequenceClassification model).\n",
      "Some weights or buffers of the TF 2.0 model TFDistilBertForSequenceClassification were not initialized from the PyTorch model and are newly initialized: ['pre_classifier.weight', 'pre_classifier.bias', 'classifier.weight', 'classifier.bias']\n",
      "You should probably TRAIN this model on a down-stream task to be able to use it for predictions and inference.\n"
     ]
    }
   ],
   "source": [
    "from transformers import TFAutoModelForSequenceClassification\n",
    "\n",
    "model = TFAutoModelForSequenceClassification.from_pretrained(\n",
    "    \"distilbert-base-uncased\", num_labels=2, id2label=id2label, label2id=label2id\n",
    ")"
   ]
  },
  {
   "cell_type": "code",
   "execution_count": 103,
   "metadata": {},
   "outputs": [],
   "source": [
    "tf_train_set = model.prepare_tf_dataset(\n",
    "    tokenized_data[\"train\"],\n",
    "    shuffle=True,\n",
    "    batch_size=16,\n",
    "    collate_fn=data_collator,\n",
    ")\n",
    "\n",
    "tf_validation_set = model.prepare_tf_dataset(\n",
    "    tokenized_data[\"validation\"],\n",
    "    shuffle=False,\n",
    "    batch_size=16,\n",
    "    collate_fn=data_collator,\n",
    ")"
   ]
  },
  {
   "cell_type": "code",
   "execution_count": 117,
   "metadata": {},
   "outputs": [
    {
     "name": "stdout",
     "output_type": "stream",
     "text": [
      "Model: \"tf_distil_bert_for_sequence_classification\"\n",
      "_________________________________________________________________\n",
      " Layer (type)                Output Shape              Param #   \n",
      "=================================================================\n",
      " distilbert (TFDistilBertMai  multiple                 66362880  \n",
      " nLayer)                                                         \n",
      "                                                                 \n",
      " pre_classifier (Dense)      multiple                  590592    \n",
      "                                                                 \n",
      " classifier (Dense)          multiple                  1538      \n",
      "                                                                 \n",
      " dropout_19 (Dropout)        multiple                  0         \n",
      "                                                                 \n",
      "=================================================================\n",
      "Total params: 66,955,010\n",
      "Trainable params: 66,955,010\n",
      "Non-trainable params: 0\n",
      "_________________________________________________________________\n"
     ]
    }
   ],
   "source": [
    "import tensorflow as tf\n",
    "\n",
    "model.compile(optimizer=optimizer,loss=tf.losses.BinaryCrossentropy(from_logits=False),metrics=tf.metrics.BinaryAccuracy(threshold=0.0)) \n",
    "model.summary()"
   ]
  },
  {
   "cell_type": "code",
   "execution_count": 106,
   "metadata": {},
   "outputs": [],
   "source": [
    "from transformers.keras_callbacks import KerasMetricCallback\n",
    "\n",
    "metric_callback = KerasMetricCallback(metric_fn=compute_metrics, eval_dataset=tf_validation_set)"
   ]
  },
  {
   "cell_type": "code",
   "execution_count": 109,
   "metadata": {},
   "outputs": [],
   "source": [
    "callbacks = [metric_callback,]"
   ]
  },
  {
   "cell_type": "code",
   "execution_count": 119,
   "metadata": {},
   "outputs": [
    {
     "name": "stdout",
     "output_type": "stream",
     "text": [
      "Epoch 1/10\n",
      "8522/8522 [==============================] - 538s 63ms/step - loss: 0.8823 - binary_accuracy: 0.8993 - val_loss: 0.7809 - val_binary_accuracy: 0.9416 - accuracy: 0.7267\n",
      "Epoch 2/10\n",
      "8522/8522 [==============================] - 540s 63ms/step - loss: 0.8752 - binary_accuracy: 0.9026 - val_loss: 0.7550 - val_binary_accuracy: 0.9230 - accuracy: 0.7218\n",
      "Epoch 3/10\n",
      "8522/8522 [==============================] - 525s 62ms/step - loss: 0.8719 - binary_accuracy: 0.9080 - val_loss: 0.7550 - val_binary_accuracy: 0.9230 - accuracy: 0.7218\n",
      "Epoch 4/10\n",
      "8522/8522 [==============================] - 554s 65ms/step - loss: 0.8717 - binary_accuracy: 0.9084 - val_loss: 0.7550 - val_binary_accuracy: 0.9230 - accuracy: 0.7218\n",
      "Epoch 5/10\n",
      "8522/8522 [==============================] - 546s 64ms/step - loss: 0.8721 - binary_accuracy: 0.9078 - val_loss: 0.7550 - val_binary_accuracy: 0.9230 - accuracy: 0.7218\n",
      "Epoch 6/10\n",
      "8522/8522 [==============================] - 537s 63ms/step - loss: 0.8715 - binary_accuracy: 0.9079 - val_loss: 0.7550 - val_binary_accuracy: 0.9230 - accuracy: 0.7217\n",
      "Epoch 7/10\n",
      "8522/8522 [==============================] - 549s 64ms/step - loss: 0.8722 - binary_accuracy: 0.9084 - val_loss: 0.7550 - val_binary_accuracy: 0.9230 - accuracy: 0.7218\n",
      "Epoch 8/10\n",
      "8522/8522 [==============================] - 535s 63ms/step - loss: 0.8719 - binary_accuracy: 0.9084 - val_loss: 0.7550 - val_binary_accuracy: 0.9230 - accuracy: 0.7218\n",
      "Epoch 9/10\n",
      "8522/8522 [==============================] - 523s 61ms/step - loss: 0.8720 - binary_accuracy: 0.9083 - val_loss: 0.7550 - val_binary_accuracy: 0.9230 - accuracy: 0.7218\n",
      "Epoch 10/10\n",
      "8522/8522 [==============================] - 543s 64ms/step - loss: 0.8723 - binary_accuracy: 0.9083 - val_loss: 0.7550 - val_binary_accuracy: 0.9230 - accuracy: 0.7218\n"
     ]
    }
   ],
   "source": [
    "history = model.fit(x=tf_train_set, validation_data=tf_validation_set, epochs=10, callbacks=callbacks)"
   ]
  },
  {
   "cell_type": "code",
   "execution_count": 120,
   "metadata": {},
   "outputs": [
    {
     "data": {
      "text/plain": [
       "dict_keys(['loss', 'binary_accuracy', 'val_loss', 'val_binary_accuracy', 'accuracy'])"
      ]
     },
     "execution_count": 120,
     "metadata": {},
     "output_type": "execute_result"
    }
   ],
   "source": [
    "history_dict = history.history\n",
    "history_dict.keys()"
   ]
  },
  {
   "cell_type": "code",
   "execution_count": 122,
   "metadata": {},
   "outputs": [],
   "source": [
    "import matplotlib.pyplot as plt\n",
    "acc = history_dict['binary_accuracy']\n",
    "val_acc = history_dict['val_binary_accuracy']"
   ]
  },
  {
   "cell_type": "code",
   "execution_count": 125,
   "metadata": {},
   "outputs": [
    {
     "data": {
      "text/plain": [
       "[0.9416285157203674,\n",
       " 0.9229878187179565,\n",
       " 0.9229878187179565,\n",
       " 0.9229878187179565,\n",
       " 0.9229731559753418,\n",
       " 0.9229731559753418,\n",
       " 0.9229731559753418,\n",
       " 0.9229731559753418,\n",
       " 0.9229731559753418,\n",
       " 0.9229731559753418]"
      ]
     },
     "execution_count": 125,
     "metadata": {},
     "output_type": "execute_result"
    }
   ],
   "source": [
    "val_acc"
   ]
  },
  {
   "cell_type": "code",
   "execution_count": 126,
   "metadata": {},
   "outputs": [
    {
     "name": "stderr",
     "output_type": "stream",
     "text": [
      "C:\\Users\\SBK\\AppData\\Local\\Temp\\ipykernel_29692\\3702691398.py:1: UserWarning: color is redundantly defined by the 'color' keyword argument and the fmt string \"b\" (-> color=(0.0, 0.0, 1.0, 1)). The keyword argument will take precedence.\n",
      "  plt.plot( acc, 'b', label='Training acc',color='green')\n",
      "C:\\Users\\SBK\\AppData\\Local\\Temp\\ipykernel_29692\\3702691398.py:2: UserWarning: color is redundantly defined by the 'color' keyword argument and the fmt string \"b\" (-> color=(0.0, 0.0, 1.0, 1)). The keyword argument will take precedence.\n",
      "  plt.plot( val_acc, 'b', label='Validation acc',color='blue')\n"
     ]
    },
    {
     "data": {
      "image/png": "[encoded data removed]",
      "text/plain": [
       "<Figure size 640x480 with 1 Axes>"
      ]
     },
     "metadata": {},
     "output_type": "display_data"
    }
   ],
   "source": [
    "plt.plot( acc, 'b', label='Training acc',color='green')\n",
    "plt.plot( val_acc, 'b', label='Validation acc',color='blue')\n",
    "plt.title('Training and validation accuracy')\n",
    "plt.xlabel('Epochs')\n",
    "plt.ylabel('Accuracy')\n",
    "plt.legend(loc='lower right')\n",
    "\n",
    "plt.show()"
   ]
  },
  {
   "cell_type": "code",
   "execution_count": 197,
   "metadata": {},
   "outputs": [],
   "source": [
    "test_sentences_exp = [\n",
    "    \"Ali, spor yapmaktan hoşlanır, bu da onun sağlıklı bir yaşam sürmesine yardımcı olur.\",\n",
    "    \"Öğrenciler, sınavdan önce ders çalışırlar, bu da başarılarını artırır.\",\n",
    "    \"Deniz, kumda yürümeyi sever, bu da ona huzur verir.\",\n",
    "    \"Hava güzel, dışarıda piknik yapabiliriz.\",\n",
    "    \"Bahar geldiği için ağaçlar çiçek açar.\",\n",
    "    \"Çocuklar, parkta oyun oynarlar, bu da sosyal becerilerini geliştirir.\",\n",
    "    \"Yağmur yağıyor, evde oturup bir kitap okuyabilirim.\",\n",
    "    \"Yemek yapmayı seviyorum, bu da benim yaratıcı tarafımı ortaya çıkarıyor.\",\n",
    "    \"Mevsimler değişir, bu da doğanın güzelliklerini fark etmemize neden olur.\",\n",
    "    \"Arkadaşım, partiye gitmek istediğini söyledi, bu da beni sevindirdi.\",\n",
    "    \"Şehirdeki müzeler, sanatseverler için ilginç yerlerdir.\",\n",
    "    \"Çay içmeyi seviyorum, özellikle de soğuk kış günlerinde.\",\n",
    "    \"Çocuklar, annelerinin yanında güvende hissederler.\",\n",
    "    \"Güneş battı, gökyüzündeki renkler harika.\",\n",
    "    \"Öğrenciler, derslerinde başarılı olmak için düzenli çalışmalıdırlar.\",\n",
    "    \"Bu kitap ilginç, içinde pek çok bilgi var.\",\n",
    "    \"Ayşe, arkadaşının doğum günü partisine gitmek için hazırlıklar yapıyor.\",\n",
    "    \"Deniz, kumda yürümekten hoşlanır, bu da ona huzur verir.\",\n",
    "    \"Yeni restoranda yemek yedik, yemekler çok lezzetliydi.\",\n",
    "    \"Bilgisayarımı güncelledim, bu da performansını artırdı.\"\n",
    "]"
   ]
  },
  {
   "cell_type": "code",
   "execution_count": 164,
   "metadata": {},
   "outputs": [],
   "source": [
    "test_sentences = [] \n",
    "test_label = []\n",
    "\n",
    "for exm in test_sentences_exp:\n",
    "    new_txt, new_label = preprocessing(exm)\n",
    "    test_sentences.append(new_txt)\n",
    "    test_label.append(new_label)"
   ]
  },
  {
   "cell_type": "code",
   "execution_count": 165,
   "metadata": {},
   "outputs": [
    {
     "data": {
      "text/plain": [
       "['ali, spor yapmaktan hoslanir, buda onun saglikli bir yasam surmesine yardimci olur.',\n",
       " 'ogrenciler, sinavdan once ders calisirlar, buda basarilarini artirir.',\n",
       " 'deniz, kumda yurumeyi sever, buda ona huzur verir.',\n",
       " 'hava guzel, disarida piknik yapabiliriz.',\n",
       " 'bahar geldigi icin agaclar cicek acar.',\n",
       " 'cocuklar, parkta oyun oynarlar, buda sosyal becerilerini gelistirir.',\n",
       " 'yagmur yagiyor, evde oturup bir kitap okuyabilirim.',\n",
       " 'yemek yapmayi seviyorum, buda benim yaratici tarafimi ortaya cikariyor.',\n",
       " 'mevsimler degisir, buda doganin guzelliklerini fark etmemize neden olur.',\n",
       " 'arkadasim, partiye gitmek istedigini soyledi, buda beni sevindirdi.',\n",
       " 'sehirdeki muzeler, sanatseverler icin ilginc yerlerdir.',\n",
       " 'cay icmeyi seviyorum, ozelliklede soguk kis gunlerinde.',\n",
       " 'cocuklar, annelerinin yaninda guvende hissederler.',\n",
       " 'gunes batti, gokyuzundeki renkler harika.',\n",
       " 'ogrenciler, derslerinde basarili olmak icin duzenli calismalidirlar.',\n",
       " 'bu kitap ilginc, icinde pek cok bilgi var.',\n",
       " 'ayse, arkadasinin dogum gunu partisine gitmek icin hazirliklar yapiyor.',\n",
       " 'deniz, kumda yurumekten hoslanir, buda ona huzur verir.',\n",
       " 'yeni restoranda yemek yedik, yemekler cok lezzetliydi.',\n",
       " 'bilgisayarimi guncelledim, buda performansini artirdi.']"
      ]
     },
     "execution_count": 165,
     "metadata": {},
     "output_type": "execute_result"
    }
   ],
   "source": [
    "test_sentences"
   ]
  },
  {
   "cell_type": "code",
   "execution_count": 166,
   "metadata": {},
   "outputs": [],
   "source": [
    "data_test = {\n",
    "    'text':test_sentences,\n",
    "    'label':test_label\n",
    "}\n",
    "test_data = Dataset.from_dict( {'text': data_test['text'], 'label': data_test['label']})\n",
    "dataset_test = DatasetDict(\n",
    "    {\n",
    "        'test': test_data\n",
    "    }\n",
    ")"
   ]
  },
  {
   "cell_type": "code",
   "execution_count": 167,
   "metadata": {},
   "outputs": [
    {
     "data": {
      "text/plain": [
       "['ali, spor yapmaktan hoslanir, buda onun saglikli bir yasam surmesine yardimci olur.',\n",
       " 'ogrenciler, sinavdan once ders calisirlar, buda basarilarini artirir.',\n",
       " 'deniz, kumda yurumeyi sever, buda ona huzur verir.',\n",
       " 'hava guzel, disarida piknik yapabiliriz.',\n",
       " 'bahar geldigi icin agaclar cicek acar.',\n",
       " 'cocuklar, parkta oyun oynarlar, buda sosyal becerilerini gelistirir.',\n",
       " 'yagmur yagiyor, evde oturup bir kitap okuyabilirim.',\n",
       " 'yemek yapmayi seviyorum, buda benim yaratici tarafimi ortaya cikariyor.',\n",
       " 'mevsimler degisir, buda doganin guzelliklerini fark etmemize neden olur.',\n",
       " 'arkadasim, partiye gitmek istedigini soyledi, buda beni sevindirdi.',\n",
       " 'sehirdeki muzeler, sanatseverler icin ilginc yerlerdir.',\n",
       " 'cay icmeyi seviyorum, ozelliklede soguk kis gunlerinde.',\n",
       " 'cocuklar, annelerinin yaninda guvende hissederler.',\n",
       " 'gunes batti, gokyuzundeki renkler harika.',\n",
       " 'ogrenciler, derslerinde basarili olmak icin duzenli calismalidirlar.',\n",
       " 'bu kitap ilginc, icinde pek cok bilgi var.',\n",
       " 'ayse, arkadasinin dogum gunu partisine gitmek icin hazirliklar yapiyor.',\n",
       " 'deniz, kumda yurumekten hoslanir, buda ona huzur verir.',\n",
       " 'yeni restoranda yemek yedik, yemekler cok lezzetliydi.',\n",
       " 'bilgisayarimi guncelledim, buda performansini artirdi.']"
      ]
     },
     "execution_count": 167,
     "metadata": {},
     "output_type": "execute_result"
    }
   ],
   "source": [
    "data_test['text']"
   ]
  },
  {
   "cell_type": "code",
   "execution_count": 168,
   "metadata": {},
   "outputs": [
    {
     "data": {
      "application/vnd.jupyter.widget-view+json": {
       "model_id": "3222365ad3134a848102e4fe24821800",
       "version_major": 2,
       "version_minor": 0
      },
      "text/plain": [
       "Map:   0%|          | 0/20 [00:00<?, ? examples/s]"
      ]
     },
     "metadata": {},
     "output_type": "display_data"
    },
    {
     "data": {
      "text/plain": [
       "DatasetDict({\n",
       "    test: Dataset({\n",
       "        features: ['text', 'label', 'input_ids', 'attention_mask'],\n",
       "        num_rows: 20\n",
       "    })\n",
       "})"
      ]
     },
     "execution_count": 168,
     "metadata": {},
     "output_type": "execute_result"
    }
   ],
   "source": [
    "tokenized_test = dataset_test.map(preprocess_function, batched=True)\n",
    "tokenized_test"
   ]
  },
  {
   "cell_type": "code",
   "execution_count": 174,
   "metadata": {},
   "outputs": [],
   "source": [
    "tf_test = model.prepare_tf_dataset(\n",
    "    tokenized_test[\"test\"],\n",
    "    shuffle=False,\n",
    "    batch_size=1,\n",
    "    collate_fn=data_collator,\n",
    ")"
   ]
  },
  {
   "cell_type": "code",
   "execution_count": 175,
   "metadata": {},
   "outputs": [
    {
     "name": "stdout",
     "output_type": "stream",
     "text": [
      "20/20 [==============================] - 1s 23ms/step\n"
     ]
    }
   ],
   "source": [
    "results = model.predict(tf_test)"
   ]
  },
  {
   "cell_type": "code",
   "execution_count": 184,
   "metadata": {},
   "outputs": [],
   "source": [
    "pred = np.argmax(results['logits'],axis=-1)"
   ]
  },
  {
   "cell_type": "code",
   "execution_count": 192,
   "metadata": {},
   "outputs": [
    {
     "data": {
      "text/plain": [
       "[1, 1, 1, 1, 0, 1, 0, 1, 1, 1, 0, 1, 1, 0, 1, 1, 1, 1, 1, 1]"
      ]
     },
     "execution_count": 192,
     "metadata": {},
     "output_type": "execute_result"
    }
   ],
   "source": [
    "list(pred)"
   ]
  },
  {
   "cell_type": "code",
   "execution_count": 199,
   "metadata": {},
   "outputs": [
    {
     "data": {
      "text/plain": [
       "['Ali, spor yapmaktan hoşlanır, bu da onun sağlıklı bir yaşam sürmesine yardımcı olur.',\n",
       " 'Öğrenciler, sınavdan önce ders çalışırlar, bu da başarılarını artırır.',\n",
       " 'Deniz, kumda yürümeyi sever, bu da ona huzur verir.',\n",
       " 'Hava güzel, dışarıda piknik yapabiliriz.',\n",
       " 'Bahar geldiği için ağaçlar çiçek açar.',\n",
       " 'Çocuklar, parkta oyun oynarlar, bu da sosyal becerilerini geliştirir.',\n",
       " 'Yağmur yağıyor, evde oturup bir kitap okuyabilirim.',\n",
       " 'Yemek yapmayı seviyorum, bu da benim yaratıcı tarafımı ortaya çıkarıyor.',\n",
       " 'Mevsimler değişir, bu da doğanın güzelliklerini fark etmemize neden olur.',\n",
       " 'Arkadaşım, partiye gitmek istediğini söyledi, bu da beni sevindirdi.',\n",
       " 'Şehirdeki müzeler, sanatseverler için ilginç yerlerdir.',\n",
       " 'Çay içmeyi seviyorum, özellikle de soğuk kış günlerinde.',\n",
       " 'Çocuklar, annelerinin yanında güvende hissederler.',\n",
       " 'Güneş battı, gökyüzündeki renkler harika.',\n",
       " 'Öğrenciler, derslerinde başarılı olmak için düzenli çalışmalıdırlar.',\n",
       " 'Bu kitap ilginç, içinde pek çok bilgi var.',\n",
       " 'Ayşe, arkadaşının doğum günü partisine gitmek için hazırlıklar yapıyor.',\n",
       " 'Deniz, kumda yürümekten hoşlanır, bu da ona huzur verir.',\n",
       " 'Yeni restoranda yemek yedik, yemekler çok lezzetliydi.',\n",
       " 'Bilgisayarımı güncelledim, bu da performansını artırdı.']"
      ]
     },
     "execution_count": 199,
     "metadata": {},
     "output_type": "execute_result"
    }
   ],
   "source": [
    "test_sentences_exp"
   ]
  },
  {
   "cell_type": "code",
   "execution_count": 207,
   "metadata": {},
   "outputs": [
    {
     "name": "stdout",
     "output_type": "stream",
     "text": [
      "\" Ali, spor yapmaktan hoşlanır, bu da onun sağlıklı bir yaşam sürmesine yardımcı olur. \" is predicted 1\n",
      "SEPERATED\n",
      "--------------------------------------------------------------------------------\n",
      "\" Öğrenciler, sınavdan önce ders çalışırlar, bu da başarılarını artırır. \" is predicted 1\n",
      "SEPERATED\n",
      "--------------------------------------------------------------------------------\n",
      "\" Deniz, kumda yürümeyi sever, bu da ona huzur verir. \" is predicted 1\n",
      "SEPERATED\n",
      "--------------------------------------------------------------------------------\n",
      "\" Hava güzel, dışarıda piknik yapabiliriz. \" is predicted 1\n",
      "SEPERATED\n",
      "--------------------------------------------------------------------------------\n",
      "\" Bahar geldiği için ağaçlar çiçek açar. \" is predicted 0\n",
      "NON-SEPERATED\n",
      "--------------------------------------------------------------------------------\n",
      "\" Çocuklar, parkta oyun oynarlar, bu da sosyal becerilerini geliştirir. \" is predicted 1\n",
      "SEPERATED\n",
      "--------------------------------------------------------------------------------\n",
      "\" Yağmur yağıyor, evde oturup bir kitap okuyabilirim. \" is predicted 0\n",
      "NON-SEPERATED\n",
      "--------------------------------------------------------------------------------\n",
      "\" Yemek yapmayı seviyorum, bu da benim yaratıcı tarafımı ortaya çıkarıyor. \" is predicted 1\n",
      "SEPERATED\n",
      "--------------------------------------------------------------------------------\n",
      "\" Mevsimler değişir, bu da doğanın güzelliklerini fark etmemize neden olur. \" is predicted 1\n",
      "SEPERATED\n",
      "--------------------------------------------------------------------------------\n",
      "\" Arkadaşım, partiye gitmek istediğini söyledi, bu da beni sevindirdi. \" is predicted 1\n",
      "SEPERATED\n",
      "--------------------------------------------------------------------------------\n",
      "\" Şehirdeki müzeler, sanatseverler için ilginç yerlerdir. \" is predicted 0\n",
      "NON-SEPERATED\n",
      "--------------------------------------------------------------------------------\n",
      "\" Çay içmeyi seviyorum, özellikle de soğuk kış günlerinde. \" is predicted 1\n",
      "SEPERATED\n",
      "--------------------------------------------------------------------------------\n",
      "\" Çocuklar, annelerinin yanında güvende hissederler. \" is predicted 1\n",
      "SEPERATED\n",
      "--------------------------------------------------------------------------------\n",
      "\" Güneş battı, gökyüzündeki renkler harika. \" is predicted 0\n",
      "NON-SEPERATED\n",
      "--------------------------------------------------------------------------------\n",
      "\" Öğrenciler, derslerinde başarılı olmak için düzenli çalışmalıdırlar. \" is predicted 1\n",
      "SEPERATED\n",
      "--------------------------------------------------------------------------------\n",
      "\" Bu kitap ilginç, içinde pek çok bilgi var. \" is predicted 1\n",
      "SEPERATED\n",
      "--------------------------------------------------------------------------------\n",
      "\" Ayşe, arkadaşının doğum günü partisine gitmek için hazırlıklar yapıyor. \" is predicted 1\n",
      "SEPERATED\n",
      "--------------------------------------------------------------------------------\n",
      "\" Deniz, kumda yürümekten hoşlanır, bu da ona huzur verir. \" is predicted 1\n",
      "SEPERATED\n",
      "--------------------------------------------------------------------------------\n",
      "\" Yeni restoranda yemek yedik, yemekler çok lezzetliydi. \" is predicted 1\n",
      "SEPERATED\n",
      "--------------------------------------------------------------------------------\n",
      "\" Bilgisayarımı güncelledim, bu da performansını artırdı. \" is predicted 1\n",
      "SEPERATED\n",
      "--------------------------------------------------------------------------------\n"
     ]
    }
   ],
   "source": [
    "for i,(sentence,label) in enumerate(zip(test_sentences_exp,list(pred))):\n",
    "    print(f'\" {sentence} \" is predicted {label}')\n",
    "    if label == 1:\n",
    "        print('SEPERATED')\n",
    "    else:\n",
    "        print('NON-SEPERATED')\n",
    "    print(\"--------------------------------------------------------------------------------\")"
   ]
  }
 ],
 "metadata": {
  "kernelspec": {
   "display_name": "dl",
   "language": "python",
   "name": "python3"
  },
  "language_info": {
   "codemirror_mode": {
    "name": "ipython",
    "version": 3
   },
   "file_extension": ".py",
   "mimetype": "text/x-python",
   "name": "python",
   "nbconvert_exporter": "python",
   "pygments_lexer": "ipython3",
   "version": "3.9.18"
  }
 },
 "nbformat": 4,
 "nbformat_minor": 2
}
